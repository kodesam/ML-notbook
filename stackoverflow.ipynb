{
 "cells": [
  {
   "cell_type": "markdown",
   "id": "0e7d9761-f0b3-4d06-9ef7-1f3e29dea0aa",
   "metadata": {},
   "source": [
    "In the first cell, run the following command to install the Google Cloud Vertex AI, Cloud Storage and BigQuery SDKs. To run the command, execute SHIFT+ENTER"
   ]
  },
  {
   "cell_type": "markdown",
   "id": "f9adbd65-c402-4dd2-bebf-d8b3e2a00c9c",
   "metadata": {
    "tags": []
   },
   "source": [
    "! pip3 install --upgrade google-cloud-aiplatform \\\n",
    "                        google-cloud-storage \\\n",
    "                        'google-cloud-bigquery[pandas]'"
   ]
  },
  {
   "cell_type": "code",
   "execution_count": 2,
   "id": "1b2f6aed-3090-4649-afff-863fcbbc0b08",
   "metadata": {
    "tags": []
   },
   "outputs": [
    {
     "data": {
      "text/plain": [
       "{'status': 'ok', 'restart': True}"
      ]
     },
     "execution_count": 2,
     "metadata": {},
     "output_type": "execute_result"
    }
   ],
   "source": [
    "import IPython\n",
    "\n",
    "app = IPython.Application.instance()\n",
    "app.kernel.do_shutdown(True)\n"
   ]
  },
  {
   "cell_type": "code",
   "execution_count": 1,
   "id": "379528d1-bd7c-44c2-ab84-ce7d2b6d5b3d",
   "metadata": {
    "tags": []
   },
   "outputs": [],
   "source": [
    "PROJECT = !gcloud config get-value project\n",
    "PROJECT_ID = PROJECT[0]\n",
    "REGION = \"us-west1\""
   ]
  },
  {
   "cell_type": "code",
   "execution_count": 2,
   "id": "3316eb8e-37c7-42e9-af25-fa7198c70cc3",
   "metadata": {
    "tags": []
   },
   "outputs": [],
   "source": [
    "import vertexai\n",
    "vertexai.init(project = PROJECT_ID,\n",
    "              location = REGION)"
   ]
  },
  {
   "cell_type": "code",
   "execution_count": 3,
   "id": "e40bd2c8-c253-49df-89f4-d9b5716bd952",
   "metadata": {
    "tags": []
   },
   "outputs": [],
   "source": [
    "import math\n",
    "from typing import Any, Generator\n",
    "\n",
    "import pandas as pd\n",
    "from google.cloud import bigquery\n",
    "\n",
    "client = bigquery.Client(project=PROJECT_ID)"
   ]
  },
  {
   "cell_type": "code",
   "execution_count": 4,
   "id": "3a44972c-a00b-4d34-9288-72f1a9822216",
   "metadata": {
    "tags": []
   },
   "outputs": [],
   "source": [
    "QUERY_TEMPLATE = \"\"\"\n",
    "        SELECT distinct q.id, q.title, q.body\n",
    "        FROM (SELECT * FROM `bigquery-public-data.stackoverflow.posts_questions` where Score>0 ORDER BY View_Count desc) AS q\n",
    "        LIMIT {limit} OFFSET {offset};\n",
    "        \"\"\""
   ]
  },
  {
   "cell_type": "code",
   "execution_count": 5,
   "id": "22039d21-cc11-41a1-926f-6692e0dfbe09",
   "metadata": {
    "tags": []
   },
   "outputs": [],
   "source": [
    "def query_bigquery_chunks(\n",
    "    max_rows: int, rows_per_chunk: int, start_chunk: int = 0\n",
    ") -> Generator[pd.DataFrame, Any, None]:\n",
    "    for offset in range(start_chunk, max_rows, rows_per_chunk):\n",
    "        query = QUERY_TEMPLATE.format(limit=rows_per_chunk, offset=offset)\n",
    "        query_job = client.query(query)\n",
    "        rows = query_job.result()\n",
    "        df = rows.to_dataframe()\n",
    "        df[\"title_with_body\"] = df.title + \"\\n\" + df.body\n",
    "        yield df"
   ]
  },
  {
   "cell_type": "code",
   "execution_count": 6,
   "id": "82320cd3-f1ea-451f-8bab-f5329fac2035",
   "metadata": {
    "tags": []
   },
   "outputs": [
    {
     "data": {
      "text/html": [
       "<div>\n",
       "<style scoped>\n",
       "    .dataframe tbody tr th:only-of-type {\n",
       "        vertical-align: middle;\n",
       "    }\n",
       "\n",
       "    .dataframe tbody tr th {\n",
       "        vertical-align: top;\n",
       "    }\n",
       "\n",
       "    .dataframe thead th {\n",
       "        text-align: right;\n",
       "    }\n",
       "</style>\n",
       "<table border=\"1\" class=\"dataframe\">\n",
       "  <thead>\n",
       "    <tr style=\"text-align: right;\">\n",
       "      <th></th>\n",
       "      <th>id</th>\n",
       "      <th>title</th>\n",
       "      <th>body</th>\n",
       "      <th>title_with_body</th>\n",
       "    </tr>\n",
       "  </thead>\n",
       "  <tbody>\n",
       "    <tr>\n",
       "      <th>0</th>\n",
       "      <td>25836860</td>\n",
       "      <td>UI flicker while pressing back in android</td>\n",
       "      <td>&lt;p&gt;I am creating a UI for my company which has...</td>\n",
       "      <td>UI flicker while pressing back in android\\n&lt;p&gt;...</td>\n",
       "    </tr>\n",
       "    <tr>\n",
       "      <th>1</th>\n",
       "      <td>8193953</td>\n",
       "      <td>TIdHTTPServer connection aborted</td>\n",
       "      <td>&lt;p&gt;I have a http server application and I'm us...</td>\n",
       "      <td>TIdHTTPServer connection aborted\\n&lt;p&gt;I have a ...</td>\n",
       "    </tr>\n",
       "    <tr>\n",
       "      <th>2</th>\n",
       "      <td>35754588</td>\n",
       "      <td>How to use abstract classes inside a UserControl</td>\n",
       "      <td>&lt;p&gt;I have a &lt;code&gt;UserControl&lt;/code&gt;.&lt;/p&gt;\\n\\n&lt;...</td>\n",
       "      <td>How to use abstract classes inside a UserContr...</td>\n",
       "    </tr>\n",
       "    <tr>\n",
       "      <th>3</th>\n",
       "      <td>35708677</td>\n",
       "      <td>UILocalNotification triggers daily even after ...</td>\n",
       "      <td>&lt;p&gt;I am trying to create a local notification ...</td>\n",
       "      <td>UILocalNotification triggers daily even after ...</td>\n",
       "    </tr>\n",
       "    <tr>\n",
       "      <th>4</th>\n",
       "      <td>2931053</td>\n",
       "      <td>Tkinter Label bound to StringVar is one click ...</td>\n",
       "      <td>&lt;p&gt;The problem I'm running into here is that, ...</td>\n",
       "      <td>Tkinter Label bound to StringVar is one click ...</td>\n",
       "    </tr>\n",
       "  </tbody>\n",
       "</table>\n",
       "</div>"
      ],
      "text/plain": [
       "         id                                              title  \\\n",
       "0  25836860          UI flicker while pressing back in android   \n",
       "1   8193953                   TIdHTTPServer connection aborted   \n",
       "2  35754588   How to use abstract classes inside a UserControl   \n",
       "3  35708677  UILocalNotification triggers daily even after ...   \n",
       "4   2931053  Tkinter Label bound to StringVar is one click ...   \n",
       "\n",
       "                                                body  \\\n",
       "0  <p>I am creating a UI for my company which has...   \n",
       "1  <p>I have a http server application and I'm us...   \n",
       "2  <p>I have a <code>UserControl</code>.</p>\\n\\n<...   \n",
       "3  <p>I am trying to create a local notification ...   \n",
       "4  <p>The problem I'm running into here is that, ...   \n",
       "\n",
       "                                     title_with_body  \n",
       "0  UI flicker while pressing back in android\\n<p>...  \n",
       "1  TIdHTTPServer connection aborted\\n<p>I have a ...  \n",
       "2  How to use abstract classes inside a UserContr...  \n",
       "3  UILocalNotification triggers daily even after ...  \n",
       "4  Tkinter Label bound to StringVar is one click ...  "
      ]
     },
     "execution_count": 6,
     "metadata": {},
     "output_type": "execute_result"
    }
   ],
   "source": [
    "df = next(query_bigquery_chunks(max_rows=1000, rows_per_chunk=1000))\n",
    "\n",
    "# Examine the data\n",
    "df.head()"
   ]
  },
  {
   "cell_type": "code",
   "execution_count": 7,
   "id": "cee865f9-14ea-4fa8-bdc7-9a9735fffa92",
   "metadata": {
    "tags": []
   },
   "outputs": [],
   "source": [
    "from typing import List, Optional\n",
    "from vertexai.preview.language_models import TextEmbeddingModel\n",
    "\n",
    "model = TextEmbeddingModel.from_pretrained(\"textembedding-gecko@001\")"
   ]
  },
  {
   "cell_type": "code",
   "execution_count": 8,
   "id": "7a605158-d061-4db2-a769-b7010b5dbdb5",
   "metadata": {
    "tags": []
   },
   "outputs": [],
   "source": [
    "def encode_texts_to_embeddings(sentences: List[str]) -> List[Optional[List[float]]]:\n",
    "    try:\n",
    "        embeddings = model.get_embeddings(sentences)\n",
    "        return [embedding.values for embedding in embeddings]\n",
    "    except Exception:\n",
    "        return [None for _ in range(len(sentences))]"
   ]
  },
  {
   "cell_type": "code",
   "execution_count": 9,
   "id": "26ec0109-56c0-4dda-95d1-b44abe603095",
   "metadata": {
    "tags": []
   },
   "outputs": [],
   "source": [
    "import functools\n",
    "import time\n",
    "from concurrent.futures import ThreadPoolExecutor\n",
    "from typing import Generator, List, Tuple\n",
    "\n",
    "import numpy as np\n",
    "from tqdm.auto import tqdm\n",
    "\n",
    "\n",
    "# Generator function to yield batches of sentences\n",
    "def generate_batches(\n",
    "    sentences: List[str], batch_size: int\n",
    ") -> Generator[List[str], None, None]:\n",
    "    for i in range(0, len(sentences), batch_size):\n",
    "        yield sentences[i : i + batch_size]"
   ]
  },
  {
   "cell_type": "code",
   "execution_count": 10,
   "id": "420aba75-5d82-4900-b1ce-71963b78f6a3",
   "metadata": {
    "tags": []
   },
   "outputs": [],
   "source": [
    "def encode_text_to_embedding_batched(\n",
    "    sentences: List[str], api_calls_per_second: int = 10, batch_size: int = 5\n",
    ") -> Tuple[List[bool], np.ndarray]:\n",
    "\n",
    "    embeddings_list: List[List[float]] = []\n",
    "\n",
    "    # Prepare the batches using a generator\n",
    "    batches = generate_batches(sentences, batch_size)\n",
    "\n",
    "    seconds_per_job = 1 / api_calls_per_second\n",
    "\n",
    "    with ThreadPoolExecutor() as executor:\n",
    "        futures = []\n",
    "        for batch in tqdm(\n",
    "            batches, total=math.ceil(len(sentences) / batch_size), position=0\n",
    "        ):\n",
    "            futures.append(\n",
    "                executor.submit(functools.partial(encode_texts_to_embeddings), batch)\n",
    "            )\n",
    "            time.sleep(seconds_per_job)\n",
    "\n",
    "        for future in futures:\n",
    "            embeddings_list.extend(future.result())\n",
    "\n",
    "    is_successful = [\n",
    "        embedding is not None for sentence, embedding in zip(sentences, embeddings_list)\n",
    "    ]\n",
    "    embeddings_list_successful = np.squeeze(\n",
    "        np.stack([embedding for embedding in embeddings_list if embedding is not None])\n",
    "    )\n",
    "    return is_successful, embeddings_list_successful"
   ]
  },
  {
   "cell_type": "code",
   "execution_count": 11,
   "id": "99088f6d-c82d-43b2-be51-cce4fe94a992",
   "metadata": {
    "tags": []
   },
   "outputs": [
    {
     "data": {
      "application/vnd.jupyter.widget-view+json": {
       "model_id": "366c2e9100a5475db115890acb8d6de2",
       "version_major": 2,
       "version_minor": 0
      },
      "text/plain": [
       "  0%|          | 0/100 [00:00<?, ?it/s]"
      ]
     },
     "metadata": {},
     "output_type": "display_data"
    }
   ],
   "source": [
    "# Encode a subset of questions for validation\n",
    "questions = df.title.tolist()[:500]\n",
    "is_successful, question_embeddings = encode_text_to_embedding_batched(\n",
    "    sentences=df.title.tolist()[:500]\n",
    ")\n",
    "\n",
    "# Filter for successfully embedded sentences\n",
    "questions = np.array(questions)[is_successful]"
   ]
  },
  {
   "cell_type": "code",
   "execution_count": 12,
   "id": "99f753dd-8644-43e9-948d-138d18ec142f",
   "metadata": {
    "tags": []
   },
   "outputs": [
    {
     "name": "stdout",
     "output_type": "stream",
     "text": [
      "768\n"
     ]
    }
   ],
   "source": [
    "DIMENSIONS = len(question_embeddings[0])\n",
    "\n",
    "print(DIMENSIONS)"
   ]
  },
  {
   "cell_type": "code",
   "execution_count": 13,
   "id": "1c39135a-72b4-44cf-a857-0be657dcbd70",
   "metadata": {
    "tags": []
   },
   "outputs": [
    {
     "name": "stdout",
     "output_type": "stream",
     "text": [
      "Query question = Selecting rows in a DBSet with Entity Framework\n",
      "\t0: Selecting rows in a DBSet with Entity Framework: 0.999999366169285\n",
      "\t1: Entity Framework with Linq, inner Join, Group By, Order By: 0.716863218168867\n",
      "\t2: Linq distinct record containing keywords: 0.6647837532488451\n",
      "\t3: How can I pass a linq var datatype to a method?: 0.6418270731916208\n",
      "\t4: How to convert IEnumerable<IEnumerable<T>> to List<string>?: 0.6309984170983918\n",
      "\t5: How to sort list on multiple properties in one line of code in Linq: 0.6305464122669026\n",
      "\t6: mvc4 - db.SaveChanges() - decimal value out of range: 0.6180778212242855\n",
      "\t7: Using MVC2 to update an Entity Framework v4 object with foreign keys fails: 0.6105349705170884\n",
      "\t8: DropDownList Binding to ActionResult Create Method MVC 4 VS2012: 0.5935508733819446\n",
      "\t9: My C# Settings method, not working to well: 0.5911589782643845\n",
      "\t10: Offset Fetch Next to get all rows: 0.5832571980311714\n",
      "\t11: Sorting OQL result set by object parameter in VisualVm: 0.5817505606136242\n",
      "\t12: Regex on ListDirectoryDetails row: 0.5784369093105823\n",
      "\t13: Callback Functions in C#: 0.574792536990738\n",
      "\t14: Run sql script from console and not from query analyzer in SQL server: 0.5737555702125205\n",
      "\t15: C# - OOP - static method in class, which uses code that should only run once: 0.5730830767862295\n",
      "\t16: Move a table from one database to another database SQL Server: 0.5720477308171388\n",
      "\t17: TabItems from View collection: 0.5714160977061571\n",
      "\t18: How to set an Item of a ListBox to the top?: 0.5631377035010235\n",
      "\t19: Is the GROUP BY clause in SQL redundant?: 0.5619225439001423\n"
     ]
    }
   ],
   "source": [
    "import random\n",
    "\n",
    "question_index = random.randint(0, 99)\n",
    "\n",
    "print(f\"Query question = {questions[question_index]}\")\n",
    "\n",
    "# Get similarity scores for each embedding by using dot-product.\n",
    "scores = np.dot(question_embeddings[question_index], question_embeddings.T)\n",
    "\n",
    "# Print top 20 matches\n",
    "for index, (question, score) in enumerate(\n",
    "    sorted(zip(questions, scores), key=lambda x: x[1], reverse=True)[:20]\n",
    "):\n",
    "    print(f\"\\t{index}: {question}: {score}\")"
   ]
  },
  {
   "cell_type": "code",
   "execution_count": 14,
   "id": "088b4e66-968c-4fc2-929f-4ad9f590941e",
   "metadata": {
    "tags": []
   },
   "outputs": [
    {
     "name": "stdout",
     "output_type": "stream",
     "text": [
      "Embeddings directory: /tmp/tmpuq_9rqm7\n"
     ]
    }
   ],
   "source": [
    "import tempfile\n",
    "from pathlib import Path\n",
    "\n",
    "# Create temporary file to write embeddings to\n",
    "embeddings_file_path = Path(tempfile.mkdtemp())\n",
    "\n",
    "print(f\"Embeddings directory: {embeddings_file_path}\")"
   ]
  },
  {
   "cell_type": "code",
   "execution_count": 15,
   "id": "301ae5c6-203f-43b1-bc1f-0a75391d6187",
   "metadata": {
    "tags": []
   },
   "outputs": [
    {
     "data": {
      "application/vnd.jupyter.widget-view+json": {
       "model_id": "f60b400ca4114d149be3b766376beb2e",
       "version_major": 2,
       "version_minor": 0
      },
      "text/plain": [
       "Chunk of rows from BigQuery:   0%|          | 0/5 [00:00<?, ?it/s]"
      ]
     },
     "metadata": {},
     "output_type": "display_data"
    },
    {
     "data": {
      "application/vnd.jupyter.widget-view+json": {
       "model_id": "3a6b328c6e2b4936ad6d8aa71c59cf8a",
       "version_major": 2,
       "version_minor": 0
      },
      "text/plain": [
       "  0%|          | 0/200 [00:00<?, ?it/s]"
      ]
     },
     "metadata": {},
     "output_type": "display_data"
    },
    {
     "data": {
      "application/vnd.jupyter.widget-view+json": {
       "model_id": "0c1a31eea6034e509957e0ca04556458",
       "version_major": 2,
       "version_minor": 0
      },
      "text/plain": [
       "  0%|          | 0/200 [00:00<?, ?it/s]"
      ]
     },
     "metadata": {},
     "output_type": "display_data"
    },
    {
     "data": {
      "application/vnd.jupyter.widget-view+json": {
       "model_id": "68e74ec970f24ead9447dcb3245b90f8",
       "version_major": 2,
       "version_minor": 0
      },
      "text/plain": [
       "  0%|          | 0/200 [00:00<?, ?it/s]"
      ]
     },
     "metadata": {},
     "output_type": "display_data"
    },
    {
     "data": {
      "application/vnd.jupyter.widget-view+json": {
       "model_id": "943aabc17d064812bafab991780aa74a",
       "version_major": 2,
       "version_minor": 0
      },
      "text/plain": [
       "  0%|          | 0/200 [00:00<?, ?it/s]"
      ]
     },
     "metadata": {},
     "output_type": "display_data"
    },
    {
     "data": {
      "application/vnd.jupyter.widget-view+json": {
       "model_id": "2eca487bf6b94b75b2421434292d59a9",
       "version_major": 2,
       "version_minor": 0
      },
      "text/plain": [
       "  0%|          | 0/200 [00:00<?, ?it/s]"
      ]
     },
     "metadata": {},
     "output_type": "display_data"
    }
   ],
   "source": [
    "import gc\n",
    "import json\n",
    "\n",
    "BQ_NUM_ROWS = 5000\n",
    "BQ_CHUNK_SIZE = 1000\n",
    "BQ_NUM_CHUNKS = math.ceil(BQ_NUM_ROWS / BQ_CHUNK_SIZE)\n",
    "\n",
    "START_CHUNK = 0\n",
    "\n",
    "# Create a rate limit of 300 requests per minute. Adjust this depending on your quota.\n",
    "API_CALLS_PER_SECOND = 300 / 60\n",
    "# According to the docs, each request can process 5 instances per request\n",
    "ITEMS_PER_REQUEST = 5\n",
    "\n",
    "# Loop through each generated dataframe, convert\n",
    "for i, df in tqdm(\n",
    "    enumerate(\n",
    "        query_bigquery_chunks(\n",
    "            max_rows=BQ_NUM_ROWS, rows_per_chunk=BQ_CHUNK_SIZE, start_chunk=START_CHUNK\n",
    "        )\n",
    "    ),\n",
    "    total=BQ_NUM_CHUNKS - START_CHUNK,\n",
    "    position=-1,\n",
    "    desc=\"Chunk of rows from BigQuery\",\n",
    "):\n",
    "    # Create a unique output file for each chunk\n",
    "    chunk_path = embeddings_file_path.joinpath(\n",
    "        f\"{embeddings_file_path.stem}_{i+START_CHUNK}.json\"\n",
    "    )\n",
    "    with open(chunk_path, \"a\") as f:\n",
    "        id_chunk = df.id\n",
    "\n",
    "        # Convert batch to embeddings\n",
    "        is_successful, question_chunk_embeddings = encode_text_to_embedding_batched(\n",
    "            sentences=df.title_with_body.to_list(),\n",
    "            api_calls_per_second=API_CALLS_PER_SECOND,\n",
    "            batch_size=ITEMS_PER_REQUEST,\n",
    "        )\n",
    "\n",
    "        # Append to file\n",
    "        embeddings_formatted = [\n",
    "            json.dumps(\n",
    "                {\n",
    "                    \"id\": str(id),\n",
    "                    \"embedding\": [str(value) for value in embedding],\n",
    "                }\n",
    "            )\n",
    "            + \"\\n\"\n",
    "            for id, embedding in zip(id_chunk[is_successful], question_chunk_embeddings)\n",
    "        ]\n",
    "        f.writelines(embeddings_formatted)\n",
    "\n",
    "        # Delete the DataFrame and any other large data structures\n",
    "        del df\n",
    "        gc.collect()"
   ]
  },
  {
   "cell_type": "code",
   "execution_count": 16,
   "id": "b4aad3d3-6a77-473a-8fe4-4c262ce67e87",
   "metadata": {
    "tags": []
   },
   "outputs": [],
   "source": [
    "BUCKET_URI = f\"gs://{PROJECT_ID}-unique\""
   ]
  },
  {
   "cell_type": "code",
   "execution_count": 17,
   "id": "c72ada70-3843-4728-910d-205547903cab",
   "metadata": {
    "tags": []
   },
   "outputs": [
    {
     "name": "stdout",
     "output_type": "stream",
     "text": [
      "Creating gs://qwiklabs-gcp-03-de903c8f57bd-unique/...\n"
     ]
    }
   ],
   "source": [
    "! gsutil mb -l {REGION} -p {PROJECT_ID} {BUCKET_URI}"
   ]
  },
  {
   "cell_type": "code",
   "execution_count": 18,
   "id": "a47025e5-7b46-48cf-ac0f-685c6c536ebf",
   "metadata": {
    "tags": []
   },
   "outputs": [
    {
     "name": "stdout",
     "output_type": "stream",
     "text": [
      "Copying file:///tmp/tmpuq_9rqm7/tmpuq_9rqm7_0.json [Content-Type=application/json]...\n",
      "Copying file:///tmp/tmpuq_9rqm7/tmpuq_9rqm7_1.json [Content-Type=application/json]...\n",
      "Copying file:///tmp/tmpuq_9rqm7/tmpuq_9rqm7_2.json [Content-Type=application/json]...\n",
      "Copying file:///tmp/tmpuq_9rqm7/tmpuq_9rqm7_4.json [Content-Type=application/json]...\n",
      "Copying file:///tmp/tmpuq_9rqm7/tmpuq_9rqm7_3.json [Content-Type=application/json]...\n",
      "\\ [5/5 files][ 45.6 MiB/ 45.6 MiB] 100% Done                                    \n",
      "Operation completed over 5 objects/45.6 MiB.                                     \n"
     ]
    }
   ],
   "source": [
    "remote_folder = f\"{BUCKET_URI}/{embeddings_file_path.stem}/\"\n",
    "! gsutil -m cp -r {embeddings_file_path}/* {remote_folder}"
   ]
  },
  {
   "cell_type": "code",
   "execution_count": 19,
   "id": "0bf8f488-9340-44b1-8e69-c03c088a14d5",
   "metadata": {
    "tags": []
   },
   "outputs": [],
   "source": [
    "DISPLAY_NAME = \"stack_overflow\"\n",
    "DESCRIPTION = \"question titles and bodies from stackoverflow\""
   ]
  },
  {
   "cell_type": "code",
   "execution_count": 21,
   "id": "8acbc531-5311-4142-98db-0e04e7185485",
   "metadata": {
    "tags": []
   },
   "outputs": [
    {
     "name": "stdout",
     "output_type": "stream",
     "text": [
      "Creating MatchingEngineIndex\n",
      "Create MatchingEngineIndex backing LRO: projects/370509227950/locations/us-west1/indexes/6867831102065606656/operations/7528552927963643904\n",
      "MatchingEngineIndex created. Resource name: projects/370509227950/locations/us-west1/indexes/6867831102065606656\n",
      "To use this MatchingEngineIndex in another session:\n",
      "index = aiplatform.MatchingEngineIndex('projects/370509227950/locations/us-west1/indexes/6867831102065606656')\n"
     ]
    }
   ],
   "source": [
    "from google.cloud import aiplatform\n",
    "\n",
    "aiplatform.init(project=PROJECT_ID, location=REGION, staging_bucket=BUCKET_URI)\n",
    "\n",
    "DIMENSIONS = 768\n",
    "\n",
    "tree_ah_index = aiplatform.MatchingEngineIndex.create_tree_ah_index(\n",
    "    display_name=DISPLAY_NAME,\n",
    "    contents_delta_uri=remote_folder,\n",
    "    dimensions=DIMENSIONS,\n",
    "    approximate_neighbors_count=150,\n",
    "    distance_measure_type=\"DOT_PRODUCT_DISTANCE\",\n",
    "    leaf_node_embedding_count=500,\n",
    "    leaf_nodes_to_search_percent=80,\n",
    "    description=DESCRIPTION,\n",
    ")"
   ]
  },
  {
   "cell_type": "code",
   "execution_count": 22,
   "id": "ffc152dc-eb30-46d6-806f-9fbabc87fdd7",
   "metadata": {},
   "outputs": [
    {
     "data": {
      "text/plain": [
       "'projects/370509227950/locations/us-west1/indexes/6867831102065606656'"
      ]
     },
     "execution_count": 22,
     "metadata": {},
     "output_type": "execute_result"
    }
   ],
   "source": [
    "INDEX_RESOURCE_NAME = tree_ah_index.resource_name\n",
    "INDEX_RESOURCE_NAME"
   ]
  },
  {
   "cell_type": "code",
   "execution_count": 23,
   "id": "653297e0-d190-49b1-b360-52c4e12df5a0",
   "metadata": {
    "tags": []
   },
   "outputs": [],
   "source": [
    "tree_ah_index = aiplatform.MatchingEngineIndex(index_name=INDEX_RESOURCE_NAME)"
   ]
  },
  {
   "cell_type": "code",
   "execution_count": 24,
   "id": "cdb0b950-2253-4dcd-933e-3152803accce",
   "metadata": {
    "tags": []
   },
   "outputs": [
    {
     "name": "stdout",
     "output_type": "stream",
     "text": [
      "Creating MatchingEngineIndexEndpoint\n",
      "Create MatchingEngineIndexEndpoint backing LRO: projects/370509227950/locations/us-west1/indexEndpoints/8650649624085790720/operations/5276753114278395904\n",
      "MatchingEngineIndexEndpoint created. Resource name: projects/370509227950/locations/us-west1/indexEndpoints/8650649624085790720\n",
      "To use this MatchingEngineIndexEndpoint in another session:\n",
      "index_endpoint = aiplatform.MatchingEngineIndexEndpoint('projects/370509227950/locations/us-west1/indexEndpoints/8650649624085790720')\n"
     ]
    }
   ],
   "source": [
    "my_index_endpoint = aiplatform.MatchingEngineIndexEndpoint.create(\n",
    "    display_name=DISPLAY_NAME,\n",
    "    description=DISPLAY_NAME,\n",
    "    public_endpoint_enabled=True,\n",
    ")"
   ]
  },
  {
   "cell_type": "code",
   "execution_count": 25,
   "id": "f7094340-b7f9-4982-95fd-a07527df8d0e",
   "metadata": {
    "tags": []
   },
   "outputs": [
    {
     "name": "stdout",
     "output_type": "stream",
     "text": [
      "Deploying index MatchingEngineIndexEndpoint index_endpoint: projects/370509227950/locations/us-west1/indexEndpoints/8650649624085790720\n",
      "Deploy index MatchingEngineIndexEndpoint index_endpoint backing LRO: projects/370509227950/locations/us-west1/indexEndpoints/8650649624085790720/operations/5326292710179471360\n",
      "MatchingEngineIndexEndpoint index_endpoint Deployed index. Resource name: projects/370509227950/locations/us-west1/indexEndpoints/8650649624085790720\n"
     ]
    },
    {
     "data": {
      "text/plain": [
       "[]"
      ]
     },
     "execution_count": 25,
     "metadata": {},
     "output_type": "execute_result"
    }
   ],
   "source": [
    "DEPLOYED_INDEX_ID = \"deployed_index_id_unique\"\n",
    "\n",
    "DEPLOYED_INDEX_ID\n",
    "\n",
    "\n",
    "my_index_endpoint = my_index_endpoint.deploy_index(\n",
    "    index=tree_ah_index, deployed_index_id=DEPLOYED_INDEX_ID\n",
    ")\n",
    "\n",
    "my_index_endpoint.deployed_indexes"
   ]
  },
  {
   "cell_type": "code",
   "execution_count": 26,
   "id": "0fb9cf6e-a869-4fd6-af1a-c397979e7a53",
   "metadata": {
    "tags": []
   },
   "outputs": [
    {
     "name": "stdout",
     "output_type": "stream",
     "text": [
      "Expected: 5000, Actual: 0\n"
     ]
    }
   ],
   "source": [
    "number_of_vectors = sum(\n",
    "    aiplatform.MatchingEngineIndex(\n",
    "        deployed_index.index\n",
    "    )._gca_resource.index_stats.vectors_count\n",
    "    for deployed_index in my_index_endpoint.deployed_indexes\n",
    ")\n",
    "\n",
    "print(f\"Expected: {BQ_NUM_ROWS}, Actual: {number_of_vectors}\")"
   ]
  },
  {
   "cell_type": "code",
   "execution_count": 27,
   "id": "8d65e4e1-ef55-4fde-ac4f-ae45b98da9cf",
   "metadata": {
    "tags": []
   },
   "outputs": [],
   "source": [
    "test_embeddings = encode_texts_to_embeddings(sentences=[\"Install GPU for Tensorflow\"])"
   ]
  },
  {
   "cell_type": "code",
   "execution_count": 28,
   "id": "7be9ea3b-228d-4cd5-a06a-28e32345df63",
   "metadata": {
    "tags": []
   },
   "outputs": [
    {
     "data": {
      "text/plain": [
       "[[MatchNeighbor(id='54612450', distance=0.7736330032348633, feature_vector=[], crowding_tag='0', restricts=[], numeric_restricts=[]),\n",
       "  MatchNeighbor(id='56660766', distance=0.7319902777671814, feature_vector=[], crowding_tag='0', restricts=[], numeric_restricts=[]),\n",
       "  MatchNeighbor(id='54385264', distance=0.6886470317840576, feature_vector=[], crowding_tag='0', restricts=[], numeric_restricts=[]),\n",
       "  MatchNeighbor(id='53423775', distance=0.6821916699409485, feature_vector=[], crowding_tag='0', restricts=[], numeric_restricts=[]),\n",
       "  MatchNeighbor(id='65041694', distance=0.6779682636260986, feature_vector=[], crowding_tag='0', restricts=[], numeric_restricts=[]),\n",
       "  MatchNeighbor(id='61817763', distance=0.6717808246612549, feature_vector=[], crowding_tag='0', restricts=[], numeric_restricts=[]),\n",
       "  MatchNeighbor(id='53031277', distance=0.660767138004303, feature_vector=[], crowding_tag='0', restricts=[], numeric_restricts=[]),\n",
       "  MatchNeighbor(id='63380464', distance=0.6577311754226685, feature_vector=[], crowding_tag='0', restricts=[], numeric_restricts=[]),\n",
       "  MatchNeighbor(id='53017480', distance=0.6568915247917175, feature_vector=[], crowding_tag='0', restricts=[], numeric_restricts=[]),\n",
       "  MatchNeighbor(id='32809169', distance=0.6566196084022522, feature_vector=[], crowding_tag='0', restricts=[], numeric_restricts=[])]]"
      ]
     },
     "execution_count": 28,
     "metadata": {},
     "output_type": "execute_result"
    }
   ],
   "source": [
    "NUM_NEIGHBOURS = 10\n",
    "\n",
    "response = my_index_endpoint.find_neighbors(\n",
    "    deployed_index_id=DEPLOYED_INDEX_ID,\n",
    "    queries=test_embeddings,\n",
    "    num_neighbors=NUM_NEIGHBOURS,\n",
    ")\n",
    "\n",
    "response"
   ]
  },
  {
   "cell_type": "code",
   "execution_count": 29,
   "id": "046c305e-475d-4ca8-92f0-7878970117e3",
   "metadata": {
    "tags": []
   },
   "outputs": [
    {
     "name": "stdout",
     "output_type": "stream",
     "text": [
      "https://stackoverflow.com/questions/54612450\n",
      "https://stackoverflow.com/questions/56660766\n",
      "https://stackoverflow.com/questions/54385264\n",
      "https://stackoverflow.com/questions/53423775\n",
      "https://stackoverflow.com/questions/65041694\n",
      "https://stackoverflow.com/questions/61817763\n",
      "https://stackoverflow.com/questions/53031277\n",
      "https://stackoverflow.com/questions/63380464\n",
      "https://stackoverflow.com/questions/53017480\n",
      "https://stackoverflow.com/questions/32809169\n"
     ]
    }
   ],
   "source": [
    "for match_index, neighbor in enumerate(response[0]):\n",
    "    print(f\"https://stackoverflow.com/questions/{neighbor.id}\")"
   ]
  },
  {
   "cell_type": "code",
   "execution_count": 30,
   "id": "0f7b4faa-f9b4-4523-8672-6e2a1a6cff9e",
   "metadata": {
    "tags": []
   },
   "outputs": [],
   "source": [
    "test_embeddings = encode_texts_to_embeddings(sentences=[\"Install Kubernetes on baremetal\"])"
   ]
  },
  {
   "cell_type": "code",
   "execution_count": 31,
   "id": "0e1817fa-db82-44d4-9e70-ab7a1c2d44f6",
   "metadata": {
    "tags": []
   },
   "outputs": [
    {
     "data": {
      "text/plain": [
       "[[MatchNeighbor(id='55848559', distance=0.7050083875656128, feature_vector=[], crowding_tag='0', restricts=[], numeric_restricts=[]),\n",
       "  MatchNeighbor(id='51188718', distance=0.6932722330093384, feature_vector=[], crowding_tag='0', restricts=[], numeric_restricts=[]),\n",
       "  MatchNeighbor(id='56852615', distance=0.6908754110336304, feature_vector=[], crowding_tag='0', restricts=[], numeric_restricts=[]),\n",
       "  MatchNeighbor(id='36819097', distance=0.6847041249275208, feature_vector=[], crowding_tag='0', restricts=[], numeric_restricts=[]),\n",
       "  MatchNeighbor(id='59975211', distance=0.6828333139419556, feature_vector=[], crowding_tag='0', restricts=[], numeric_restricts=[]),\n",
       "  MatchNeighbor(id='58023153', distance=0.6806507110595703, feature_vector=[], crowding_tag='0', restricts=[], numeric_restricts=[]),\n",
       "  MatchNeighbor(id='54324599', distance=0.6755163073539734, feature_vector=[], crowding_tag='0', restricts=[], numeric_restricts=[]),\n",
       "  MatchNeighbor(id='57973152', distance=0.670676589012146, feature_vector=[], crowding_tag='0', restricts=[], numeric_restricts=[]),\n",
       "  MatchNeighbor(id='47866722', distance=0.6651002168655396, feature_vector=[], crowding_tag='0', restricts=[], numeric_restricts=[]),\n",
       "  MatchNeighbor(id='54788528', distance=0.6648225784301758, feature_vector=[], crowding_tag='0', restricts=[], numeric_restricts=[])]]"
      ]
     },
     "execution_count": 31,
     "metadata": {},
     "output_type": "execute_result"
    }
   ],
   "source": [
    "NUM_NEIGHBOURS = 10\n",
    "\n",
    "response = my_index_endpoint.find_neighbors(\n",
    "    deployed_index_id=DEPLOYED_INDEX_ID,\n",
    "    queries=test_embeddings,\n",
    "    num_neighbors=NUM_NEIGHBOURS,\n",
    ")\n",
    "\n",
    "response"
   ]
  },
  {
   "cell_type": "code",
   "execution_count": 32,
   "id": "9a2d7b70-64d5-4bef-af5e-6afac53fb99f",
   "metadata": {
    "tags": []
   },
   "outputs": [
    {
     "name": "stdout",
     "output_type": "stream",
     "text": [
      "https://stackoverflow.com/questions/55848559\n",
      "https://stackoverflow.com/questions/51188718\n",
      "https://stackoverflow.com/questions/56852615\n",
      "https://stackoverflow.com/questions/36819097\n",
      "https://stackoverflow.com/questions/59975211\n",
      "https://stackoverflow.com/questions/58023153\n",
      "https://stackoverflow.com/questions/54324599\n",
      "https://stackoverflow.com/questions/57973152\n",
      "https://stackoverflow.com/questions/47866722\n",
      "https://stackoverflow.com/questions/54788528\n"
     ]
    }
   ],
   "source": [
    "for match_index, neighbor in enumerate(response[0]):\n",
    "    print(f\"https://stackoverflow.com/questions/{neighbor.id}\")"
   ]
  },
  {
   "cell_type": "code",
   "execution_count": null,
   "id": "f721c876-42fd-47bd-a043-86414b7370b2",
   "metadata": {},
   "outputs": [],
   "source": []
  }
 ],
 "metadata": {
  "environment": {
   "kernel": "python3",
   "name": ".m118",
   "type": "gcloud",
   "uri": "us-docker.pkg.dev/deeplearning-platform-release/gcr.io/:m118"
  },
  "kernelspec": {
   "display_name": "Python 3 (ipykernel) (Local)",
   "language": "python",
   "name": "python3"
  },
  "language_info": {
   "codemirror_mode": {
    "name": "ipython",
    "version": 3
   },
   "file_extension": ".py",
   "mimetype": "text/x-python",
   "name": "python",
   "nbconvert_exporter": "python",
   "pygments_lexer": "ipython3",
   "version": "3.10.13"
  }
 },
 "nbformat": 4,
 "nbformat_minor": 5
}
